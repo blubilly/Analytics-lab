{
 "cells": [
  {
   "cell_type": "markdown",
   "metadata": {},
   "source": [
    "기본적으로 데이터를 로딩하는 부분에서는 Glue의 API를 주로 사용하도록 합니다. Glue DynamicFrame에서는 대량의 파일을 로딩 / 적재 하는데 최적화된 API를 제공합니다.\n",
    "\n",
    "데이터 로딩 이후 데이터의 변환에는 Spark DataFrame를 기본적으로 사용합니다."
   ]
  },
  {
   "cell_type": "markdown",
   "metadata": {},
   "source": [
    "먼저 AWS Glue의 주요 라이브러리를 로딩하고 Spark 작업을 실행하기 위한 GlueContext를 생성합니다."
   ]
  },
  {
   "cell_type": "markdown",
   "metadata": {},
   "source": [
    "아래 코드는 Glue에서 Job 생성시 기본 코드 템플릿에 포함된 부분입니다. \n",
    "Job / Bookmark 관련된 일부 코드는 주석처리 하였습니다. "
   ]
  },
  {
   "cell_type": "code",
   "execution_count": 1,
   "metadata": {},
   "outputs": [
    {
     "name": "stdout",
     "output_type": "stream",
     "text": [
      "Starting Spark application\n"
     ]
    },
    {
     "data": {
      "text/html": [
       "<table>\n",
       "<tr><th>ID</th><th>YARN Application ID</th><th>Kind</th><th>State</th><th>Spark UI</th><th>Driver log</th><th>Current session?</th></tr><tr><td>2</td><td>application_1558507935305_0003</td><td>pyspark</td><td>idle</td><td><a target=\"_blank\" href=\"http://ip-172-32-87-202.us-west-2.compute.internal:20888/proxy/application_1558507935305_0003/\">Link</a></td><td><a target=\"_blank\" href=\"http://ip-172-32-88-25.us-west-2.compute.internal:8042/node/containerlogs/container_1558507935305_0003_01_000001/livy\">Link</a></td><td>✔</td></tr></table>"
      ],
      "text/plain": [
       "<IPython.core.display.HTML object>"
      ]
     },
     "metadata": {},
     "output_type": "display_data"
    },
    {
     "name": "stdout",
     "output_type": "stream",
     "text": [
      "SparkSession available as 'spark'.\n"
     ]
    }
   ],
   "source": [
    "#import sys\n",
    "#from awsglue.transforms import *\n",
    "#from awsglue.utils import getResolvedOptions\n",
    "from pyspark.context import SparkContext\n",
    "from awsglue.context import GlueContext\n",
    "#from awsglue.job import Job\n",
    "\n",
    "glueContext = GlueContext(SparkContext.getOrCreate())"
   ]
  },
  {
   "cell_type": "markdown",
   "metadata": {},
   "source": [
    "Glue Data Catalog에 있는 정보를 기반으로 테이블 데이터를 로딩합니다. 다음 코드가 동작하기 위해서는 앞단계에서 Glue Crawler를 통해 Database와 테이블을 생성해주어야 합니다. "
   ]
  },
  {
   "cell_type": "code",
   "execution_count": 2,
   "metadata": {},
   "outputs": [
    {
     "name": "stdout",
     "output_type": "stream",
     "text": [
      "Count:  11283758\n",
      "root\n",
      " |-- member_id: string (nullable = true)\n",
      " |-- order_date: long (nullable = true)\n",
      " |-- order_status: string (nullable = true)\n",
      " |-- country: string (nullable = true)\n",
      " |-- shipping_date: string (nullable = true)\n",
      " |-- total_price: long (nullable = true)\n",
      " |-- city: string (nullable = true)\n",
      " |-- order_time: long (nullable = true)\n",
      " |-- state: string (nullable = true)\n",
      " |-- postal_code: long (nullable = true)\n",
      " |-- region: string (nullable = true)\n",
      " |-- order_id: string (nullable = true)\n",
      "\n",
      "+---------+----------+------------+-------------+-------------+-----------+-------------+--------------+------------+-----------+------+--------------+\n",
      "|member_id|order_date|order_status|      country|shipping_date|total_price|         city|    order_time|       state|postal_code|region|      order_id|\n",
      "+---------+----------+------------+-------------+-------------+-----------+-------------+--------------+------------+-----------+------+--------------+\n",
      "| ND-18370|  20161119|     shipped|United States|   2016-11-25|         53|   Long Beach|20161119000000|    New York|      11561|  East|CA-2016-130778|\n",
      "| KH-16330|  20170619|     shipped|United States|   2017-06-21|        921|       Newark|20170619000000|        Ohio|      43055|  East|CA-2017-128944|\n",
      "| SP-20860|  20150816|     shipped|United States|   2015-08-20|        832| Philadelphia|20150816000000|Pennsylvania|      19134|  East|US-2015-126753|\n",
      "| DC-12850|  20160324|     shipped|United States|   2016-03-26|        320|    Cleveland|20160324000000|        Ohio|      44105|  East|CA-2016-130911|\n",
      "| TT-21460|  20171218|     shipped|United States|   2017-12-24|          6|San Francisco|20171218000000|  California|      94110|  West|CA-2017-158736|\n",
      "+---------+----------+------------+-------------+-------------+-----------+-------------+--------------+------------+-----------+------+--------------+\n",
      "only showing top 5 rows"
     ]
    }
   ],
   "source": [
    "order = glueContext.create_dynamic_frame.from_catalog(database=\"analytics-source\", table_name=\"order\").toDF()\n",
    "print \"Count: \", order.count()\n",
    "order.printSchema()\n",
    "order.show(5)"
   ]
  },
  {
   "cell_type": "markdown",
   "metadata": {},
   "source": [
    "이후 분석 단계에서 불필요한 컬럼을 미리 식별하여 데이터를 정리하는 작업을 진행합니다. \n",
    "몇몇 지역을 나타내는 컬럼의 데이터 분포를 살펴보고, 꼭 필요한 City 컬럼만 남기고 삭제하는 작업을 진행합니다. "
   ]
  },
  {
   "cell_type": "code",
   "execution_count": 3,
   "metadata": {},
   "outputs": [
    {
     "name": "stdout",
     "output_type": "stream",
     "text": [
      "+-------------+--------+\n",
      "|      country|   count|\n",
      "+-------------+--------+\n",
      "|United States|11283758|\n",
      "+-------------+--------+\n",
      "\n",
      "+-------+-------+\n",
      "| region|  count|\n",
      "+-------+-------+\n",
      "|  South|3335405|\n",
      "|   East|2819257|\n",
      "|Central|2797985|\n",
      "|   West|2331111|\n",
      "+-------+-------+\n",
      "\n",
      "+-------------+------+\n",
      "|         city| count|\n",
      "+-------------+------+\n",
      "|San Francisco|896024|\n",
      "|     Elmhurst|895081|\n",
      "|New York City|894701|\n",
      "|    Henderson|515644|\n",
      "|  Garden City|514531|\n",
      "|       Denver|492449|\n",
      "|   Chesapeake|491955|\n",
      "|     Columbus|491824|\n",
      "|       Toledo|491417|\n",
      "|      Detroit|491338|\n",
      "+-------------+------+\n",
      "only showing top 10 rows"
     ]
    }
   ],
   "source": [
    "#order.groupBy(\"country\").count().orderBy($\"count\".desc).show(10)\n",
    "#order.groupBy(\"region\").count().orderBy($\"count\".desc).show(10)\n",
    "order.groupBy(\"country\").count().sort(\"count\", ascending=False).show(10)\n",
    "order.groupBy(\"region\").count().sort(\"count\", ascending=False).show(10)\n",
    "order.groupBy(\"city\").count().sort(\"count\", ascending=False).show(10)\n"
   ]
  },
  {
   "cell_type": "code",
   "execution_count": 4,
   "metadata": {},
   "outputs": [
    {
     "name": "stdout",
     "output_type": "stream",
     "text": [
      "Count:  22573388\n",
      "root\n",
      " |-- item_count: long (nullable = true)\n",
      " |-- order_date: long (nullable = true)\n",
      " |-- item_id: string (nullable = true)\n",
      " |-- item_price: long (nullable = true)\n",
      " |-- order_time: long (nullable = true)\n",
      " |-- order_id: string (nullable = true)\n",
      "\n",
      "+----------+----------+---------------+----------+--------------+--------------+\n",
      "|item_count|order_date|        item_id|item_price|    order_time|      order_id|\n",
      "+----------+----------+---------------+----------+--------------+--------------+\n",
      "|         5|  20171221|OFF-SU-10000898|        14|20171221000000|CA-2017-165841|\n",
      "|         3|  20161103|OFF-PA-10004359|       105|20161103000000|CA-2016-109365|\n",
      "|         5|  20151127|FUR-CH-10002647|        71|20151127000000|CA-2015-101910|\n",
      "|         5|  20171102|OFF-AR-10003469|         2|20171102000000|US-2017-163790|\n",
      "|         1|  20141206|FUR-TA-10003238|       551|20141206000000|US-2014-112872|\n",
      "+----------+----------+---------------+----------+--------------+--------------+\n",
      "only showing top 5 rows"
     ]
    }
   ],
   "source": [
    "order_item = glueContext.create_dynamic_frame.from_catalog(database=\"analytics-source\", table_name=\"order_item\").toDF()\n",
    "print \"Count: \", order_item.count()\n",
    "order_item.printSchema()\n",
    "order_item.show(5)"
   ]
  },
  {
   "cell_type": "code",
   "execution_count": 5,
   "metadata": {},
   "outputs": [
    {
     "name": "stdout",
     "output_type": "stream",
     "text": [
      "+--------------+---------+----------+------------+-------------+-------------+-----------+---------------+--------------+--------------+-----------+------+----------+----------+---------------+----------+--------------+\n",
      "|      order_id|member_id|order_date|order_status|      country|shipping_date|total_price|           city|    order_time|         state|postal_code|region|item_count|order_date|        item_id|item_price|    order_time|\n",
      "+--------------+---------+----------+------------+-------------+-------------+-----------+---------------+--------------+--------------+-----------+------+----------+----------+---------------+----------+--------------+\n",
      "|CA-2014-114335| XP-21865|  20140928|     shipped|United States|   2014-10-03|        337|      Hollywood|20140928000000|       Florida|      33021| South|         4|  20140928|FUR-FU-10000277|       105|20140928000000|\n",
      "|CA-2014-120670| JK-16120|  20141102|     shipped|United States|   2014-11-06|        800|Fort Lauderdale|20141102000000|       Florida|      33311| South|        10|  20141102|TEC-AC-10004171|       100|20141102000000|\n",
      "|CA-2014-141838| DK-12835|  20140326|     shipped|United States|   2014-03-31|         60|  San Francisco|20140326000000|    California|      94122|  West|         2|  20140326|TEC-PH-10004100|        18|20140326000000|\n",
      "|CA-2014-141838| DK-12835|  20140326|     shipped|United States|   2014-03-31|         60|  San Francisco|20140326000000|    California|      94122|  West|         4|  20140326|OFF-BI-10003291|         9|20140326000000|\n",
      "|CA-2014-141838| DK-12835|  20140326|     shipped|United States|   2014-03-31|         60|  San Francisco|20140326000000|    California|      94122|  West|         2|  20140326|OFF-AR-10004272|         2|20140326000000|\n",
      "|CA-2015-115798| KL-16645|  20151113|     shipped|United States|   2015-11-19|        810|         Newark|20151113000000|      Delaware|      19711|  East|         2|  20151113|TEC-PH-10001819|        45|20151113000000|\n",
      "|CA-2015-115798| KL-16645|  20151113|     shipped|United States|   2015-11-19|        810|         Newark|20151113000000|      Delaware|      19711|  East|         3|  20151113|TEC-PH-10003691|       126|20151113000000|\n",
      "|CA-2015-115798| KL-16645|  20151113|     shipped|United States|   2015-11-19|        810|         Newark|20151113000000|      Delaware|      19711|  East|         3|  20151113|FUR-BO-10004467|       100|20151113000000|\n",
      "|CA-2015-115798| KL-16645|  20151113|     shipped|United States|   2015-11-19|        810|         Newark|20151113000000|      Delaware|      19711|  East|         7|  20151113|OFF-PA-10001560|         6|20151113000000|\n",
      "|CA-2015-116750| BF-10975|  20150705|     shipped|United States|   2015-07-10|         12|   Fayetteville|20150705000000|North Carolina|      28314| South|         2|  20150705|FUR-FU-10003829|         3|20150705000000|\n",
      "+--------------+---------+----------+------------+-------------+-------------+-----------+---------------+--------------+--------------+-----------+------+----------+----------+---------------+----------+--------------+\n",
      "only showing top 10 rows"
     ]
    }
   ],
   "source": [
    "order_detail = order.join(order_item, \"order_id\")\n",
    "order_detail.show(10)"
   ]
  },
  {
   "cell_type": "code",
   "execution_count": 6,
   "metadata": {},
   "outputs": [
    {
     "name": "stdout",
     "output_type": "stream",
     "text": [
      "root\n",
      " |-- order_id: string (nullable = true)\n",
      " |-- member_id: string (nullable = true)\n",
      " |-- order_date: long (nullable = true)\n",
      " |-- order_status: string (nullable = true)\n",
      " |-- country: string (nullable = true)\n",
      " |-- shipping_date: string (nullable = true)\n",
      " |-- total_price: long (nullable = true)\n",
      " |-- city: string (nullable = true)\n",
      " |-- order_time: long (nullable = true)\n",
      " |-- state: string (nullable = true)\n",
      " |-- postal_code: long (nullable = true)\n",
      " |-- region: string (nullable = true)\n",
      " |-- item_count: long (nullable = true)\n",
      " |-- order_date: long (nullable = true)\n",
      " |-- item_id: string (nullable = true)\n",
      " |-- item_price: long (nullable = true)\n",
      " |-- order_time: long (nullable = true)"
     ]
    }
   ],
   "source": [
    "order_detail.printSchema()"
   ]
  },
  {
   "cell_type": "code",
   "execution_count": 7,
   "metadata": {},
   "outputs": [
    {
     "name": "stdout",
     "output_type": "stream",
     "text": [
      "Row(member_id=u'ND-18370', order_date=20161119, order_status=u'shipped', country=u'United States', shipping_date=u'2016-11-25', total_price=53, city=u'Long Beach', order_time=20161119000000, state=u'New York', postal_code=11561, region=u'East', order_id=u'CA-2016-130778')"
     ]
    }
   ],
   "source": [
    "order.head()"
   ]
  },
  {
   "cell_type": "code",
   "execution_count": null,
   "metadata": {},
   "outputs": [],
   "source": []
  },
  {
   "cell_type": "markdown",
   "metadata": {},
   "source": [
    "앞쪽에서 Dataframe을 통해서 데이터 정리 작업과 Join을 완료한 데이터 파일을 별도의 S3 버킷에 저장합니다.\n",
    "(DataFrame으로 변경한 데이터는 DynamicFrame로 변경하는 작업이 추가됩니다.)\n",
    "저장된 데이터를 기반으로 ad-hoc 쿼리와 분석을 수행하도록 합니다. "
   ]
  },
  {
   "cell_type": "code",
   "execution_count": 8,
   "metadata": {},
   "outputs": [],
   "source": [
    "from awsglue.dynamicframe import DynamicFrame\n",
    "\n",
    "order_detail_dyf = DynamicFrame.fromDF(order_detail, glueContext, 'order_detail_dyf')"
   ]
  },
  {
   "cell_type": "code",
   "execution_count": 9,
   "metadata": {},
   "outputs": [],
   "source": [
    "datasink1 = glueContext.write_dynamic_frame.from_options(frame = order_detail_dyf, connection_type = \"s3\", connection_options = {\"path\": \"s3://analytics-data-seung/e-commerce-analytics/order_detail\"}, format = \"parquet\", transformation_ctx = \"datasink1\")\n",
    "\n"
   ]
  },
  {
   "cell_type": "markdown",
   "metadata": {},
   "source": [
    "추가적으로 필요한 데이터를 모두 로딩해서 저장하도록 합니다. \n",
    "order (이전에 로딩 완료)\n",
    "order_item (이전에 로딩 완료)\n",
    "member\n",
    "item\n",
    "item_category"
   ]
  },
  {
   "cell_type": "markdown",
   "metadata": {},
   "source": [
    "앞에서 로딩한 테이블은 DynamicFrame으로 변경하여 저장합니다."
   ]
  },
  {
   "cell_type": "code",
   "execution_count": null,
   "metadata": {},
   "outputs": [],
   "source": [
    "order_dyf = DynamicFrame.fromDF(order, glueContext, 'order_dyf')\n",
    "order_item_dyf = DynamicFrame.fromDF(order_item, glueContext, 'order_item_dyf')\n",
    "\n"
   ]
  },
  {
   "cell_type": "code",
   "execution_count": null,
   "metadata": {},
   "outputs": [],
   "source": [
    "datasink2 = glueContext.write_dynamic_frame.from_options(frame = order_dyf, connection_type = \"s3\", connection_options = {\"path\": \"s3://analytics-data-seung/e-commerce-analytics/order\"}, format = \"parquet\", transformation_ctx = \"datasink2\")\n",
    "datasink3 = glueContext.write_dynamic_frame.from_options(frame = order_item_dyf, connection_type = \"s3\", connection_options = {\"path\": \"s3://analytics-data-seung/e-commerce-analytics/order_item\"}, format = \"parquet\", transformation_ctx = \"datasink3\")\n",
    "\n"
   ]
  },
  {
   "cell_type": "code",
   "execution_count": null,
   "metadata": {},
   "outputs": [],
   "source": []
  },
  {
   "cell_type": "code",
   "execution_count": 10,
   "metadata": {},
   "outputs": [],
   "source": [
    "member = glueContext.create_dynamic_frame.from_catalog(database=\"analytics-source\", table_name=\"member\")\n",
    "item = glueContext.create_dynamic_frame.from_catalog(database=\"analytics-source\", table_name=\"item\")\n",
    "item_category = glueContext.create_dynamic_frame.from_catalog(database=\"analytics-source\", table_name=\"item_category\")\n"
   ]
  },
  {
   "cell_type": "code",
   "execution_count": null,
   "metadata": {},
   "outputs": [],
   "source": [
    "\n",
    "datasink4 = glueContext.write_dynamic_frame.from_options(frame = member, connection_type = \"s3\", connection_options = {\"path\": \"s3://analytics-data-seung/e-commerce-analytics/member\"}, format = \"parquet\", transformation_ctx = \"datasink4\")\n",
    "datasink5 = glueContext.write_dynamic_frame.from_options(frame = item, connection_type = \"s3\", connection_options = {\"path\": \"s3://analytics-data-seung/e-commerce-analytics/item\"}, format = \"parquet\", transformation_ctx = \"datasink5\")\n",
    "datasink6 = glueContext.write_dynamic_frame.from_options(frame = item_category, connection_type = \"s3\", connection_options = {\"path\": \"s3://analytics-data-seung/e-commerce-analytics/item_category\"}, format = \"parquet\", transformation_ctx = \"datasink6\")\n"
   ]
  },
  {
   "cell_type": "code",
   "execution_count": 11,
   "metadata": {},
   "outputs": [],
   "source": [
    "member = member.toDF()\n",
    "item = item.toDF()\n",
    "item_category = item_category.toDF()"
   ]
  },
  {
   "cell_type": "code",
   "execution_count": 12,
   "metadata": {},
   "outputs": [
    {
     "name": "stdout",
     "output_type": "stream",
     "text": [
      "+---------+-------------+--------+------+-------------+---------------+----------------+--------------------+-------------------+-----------+-----------+-------+---+--------------+\n",
      "|member_id|      country|login_id|gender|         city|last_login_ymdt|membership_level|      login_password|               name|      state|postal_code| region|age|      reg_ymdt|\n",
      "+---------+-------------+--------+------+-------------+---------------+----------------+--------------------+-------------------+-----------+-----------+-------+---+--------------+\n",
      "| AG-10300|United States|AG-10300|     M|  Los Angeles| 20170903161703|                |\\x42dd0eff411ab32...|Aleksandra Gannaway| California|      90049|   West| 37|20140313115051|\n",
      "| AJ-10960|United States|AJ-10960|     M|    Rochester| 20171025171702|                |\\x03821df3605318d...|       Astrea Jones|   New York|      14609|   East| 43|20140614084008|\n",
      "| AT-10735|United States|AT-10735|     M|      Bristol| 20171226054706|                |\\x2785a24953bb1ea...|      Annie Thurman|Connecticut|       6010|   East| 52|20140717221645|\n",
      "| BF-11005|United States|BF-11005|     F|       Aurora| 20171124184818|                |\\x3f7a20f76635d14...|        Barry Franz|   Colorado|      80013|   West| 62|20140919083933|\n",
      "| BP-11095|United States|BP-11095|     M|       Peoria| 20171216212103|                |\\x089dba3c403b58f...|       Bart Pistole|   Illinois|      61604|Central| 28|20140410161150|\n",
      "| BW-11200|United States|BW-11200|     M|San Francisco| 20170617233721|                |\\x32fc643f12b75fa...|        Ben Wallace| California|      94122|   West| 41|20140514224843|\n",
      "| CD-11980|United States|CD-11980|     F|      Medford| 20171114043250|                |\\x4ac8f53e4b7c94c...|       Carol Darley|     Oregon|      97504|   West| 52|20160818005444|\n",
      "| CM-12235|United States|CM-12235|     F|  Little Rock| 20161218143800|                |\\xbea0be2ebce3d3a...|       Chris McAfee|   Arkansas|      72209|  South| 45|20160204193836|\n",
      "| CS-12460|United States|CS-12460|     F|     Columbus| 20171208130200|                |\\xa78efae34d4311d...|        Chuck Sachs|    Georgia|      31907|  South| 59|20170514220518|\n",
      "| DC-12850|United States|DC-12850|     F|      Houston| 20171126154204|                |\\xca17c19a24fb567...|       Dan Campbell|      Texas|      77036|Central| 44|20140604162800|\n",
      "+---------+-------------+--------+------+-------------+---------------+----------------+--------------------+-------------------+-----------+-----------+-------+---+--------------+\n",
      "only showing top 10 rows"
     ]
    }
   ],
   "source": [
    "member.show(10)"
   ]
  },
  {
   "cell_type": "code",
   "execution_count": 47,
   "metadata": {},
   "outputs": [
    {
     "name": "stdout",
     "output_type": "stream",
     "text": [
      "+-------------+------+-----+\n",
      "|         city|gender|count|\n",
      "+-------------+------+-----+\n",
      "|  Los Angeles|     M|   33|\n",
      "|New York City|     M|   31|\n",
      "|  Los Angeles|     F|   26|\n",
      "|San Francisco|     M|   23|\n",
      "|New York City|     F|   22|\n",
      "| Philadelphia|     F|   20|\n",
      "|      Seattle|     F|   19|\n",
      "| Philadelphia|     M|   17|\n",
      "|San Francisco|     F|   17|\n",
      "|      Houston|     F|   16|\n",
      "+-------------+------+-----+\n",
      "only showing top 10 rows"
     ]
    }
   ],
   "source": [
    "member_gender = member.groupBy(\"city\", \"gender\").count().orderBy(\"count\").sort(\"count\", ascending=False)\n",
    "member_gender.show(10)\n",
    "\n",
    "#df.orderBy(desc(\"age\"), \"name\").colle\n",
    "#sampled.groupBy(\"key\").count().orderBy(\"key\").show()\n",
    "#sample_df2.cube(sample_df2[\"store\"], sample_df2[\"product\"]).agg(sum(sample_df2[\"amount\"]),grouping(sample_df2[\"store\"])).show(truncate=False)\n",
    "\n"
   ]
  },
  {
   "cell_type": "code",
   "execution_count": 68,
   "metadata": {},
   "outputs": [
    {
     "name": "stdout",
     "output_type": "stream",
     "text": [
      "+---------------+----+----+\n",
      "|           city|   F|   M|\n",
      "+---------------+----+----+\n",
      "|          Tyler|null|   1|\n",
      "|          Pasco|   1|null|\n",
      "|    Springfield|   7|   6|\n",
      "|  Bowling Green|   1|null|\n",
      "|        Edmonds|null|   1|\n",
      "|          Tempe|   1|   1|\n",
      "|         Auburn|null|   2|\n",
      "|North Las Vegas|null|   1|\n",
      "|        Phoenix|   1|   2|\n",
      "|      Bethlehem|   1|null|\n",
      "+---------------+----+----+\n",
      "only showing top 10 rows"
     ]
    }
   ],
   "source": [
    "member_pivot = member.groupBy(\"city\").pivot(\"gender\").count()\n",
    "member_pivot.show(10)\n"
   ]
  },
  {
   "cell_type": "code",
   "execution_count": 38,
   "metadata": {},
   "outputs": [
    {
     "name": "stderr",
     "output_type": "stream",
     "text": [
      "'DataFrame' object has no attribute 'pivot'\n",
      "Traceback (most recent call last):\n",
      "  File \"/mnt/yarn/usercache/livy/appcache/application_1558507935305_0003/container_1558507935305_0003_01_000001/pyspark.zip/pyspark/sql/dataframe.py\", line 1020, in __getattr__\n",
      "    \"'%s' object has no attribute '%s'\" % (self.__class__.__name__, name))\n",
      "AttributeError: 'DataFrame' object has no attribute 'pivot'\n",
      "\n"
     ]
    }
   ],
   "source": [
    "#member_gender_transp = transpose(member).show()\n",
    "member_gender.pivot(\"city\").show()\n",
    "#member_gender.count()\n",
    "\n",
    "df4.groupBy(\"year\").pivot(\"course\").sum(\"earnings\").collect()"
   ]
  },
  {
   "cell_type": "markdown",
   "metadata": {},
   "source": []
  },
  {
   "cell_type": "code",
   "execution_count": 56,
   "metadata": {},
   "outputs": [],
   "source": [
    "sqlContext.registerDataFrameAsTable(member, \"member\")\n",
    "#member.createOrReplaceTempView(\"member\")"
   ]
  },
  {
   "cell_type": "code",
   "execution_count": 58,
   "metadata": {},
   "outputs": [
    {
     "name": "stderr",
     "output_type": "stream",
     "text": [
      "u'Table or view not found: member; line 1 pos 14'\n",
      "Traceback (most recent call last):\n",
      "  File \"/mnt/yarn/usercache/livy/appcache/application_1558507935305_0003/container_1558507935305_0003_01_000001/pyspark.zip/pyspark/sql/session.py\", line 603, in sql\n",
      "    return DataFrame(self._jsparkSession.sql(sqlQuery), self._wrapped)\n",
      "  File \"/mnt/yarn/usercache/livy/appcache/application_1558507935305_0003/container_1558507935305_0003_01_000001/py4j-0.10.4-src.zip/py4j/java_gateway.py\", line 1133, in __call__\n",
      "    answer, self.gateway_client, self.target_id, self.name)\n",
      "  File \"/mnt/yarn/usercache/livy/appcache/application_1558507935305_0003/container_1558507935305_0003_01_000001/pyspark.zip/pyspark/sql/utils.py\", line 69, in deco\n",
      "    raise AnalysisException(s.split(': ', 1)[1], stackTrace)\n",
      "AnalysisException: u'Table or view not found: member; line 1 pos 14'\n",
      "\n"
     ]
    }
   ],
   "source": [
    "df2 = spark.sql(\"select * from member\").show()"
   ]
  },
  {
   "cell_type": "code",
   "execution_count": 59,
   "metadata": {},
   "outputs": [],
   "source": [
    "sqlContext.dropTempTable(\"member\")"
   ]
  },
  {
   "cell_type": "code",
   "execution_count": 52,
   "metadata": {},
   "outputs": [],
   "source": [
    "spark.catalog.dropTempView(\"member\")"
   ]
  },
  {
   "cell_type": "code",
   "execution_count": null,
   "metadata": {},
   "outputs": [],
   "source": [
    "sqlContext.registerDataFrameAsTable(df, \"table1\")\n",
    ">>> sqlContext.dropTempTable(\"table1\")"
   ]
  },
  {
   "cell_type": "code",
   "execution_count": null,
   "metadata": {},
   "outputs": [],
   "source": []
  },
  {
   "cell_type": "code",
   "execution_count": null,
   "metadata": {},
   "outputs": [],
   "source": [
    "(sql(\"\"\"select *, concat('Q', d_qoy) as qoy\n",
    "  from store_sales\n",
    "  join date_dim on ss_sold_date_sk = d_date_sk\n",
    "  join item on ss_item_sk = i_item_sk\"\"\")\n",
    "  .groupBy(\"i_category\")\n",
    "  .pivot(\"qoy\")\n",
    "  .agg(round(sum(\"ss_sales_price\")/1000000,2))\n",
    "  .show)\n",
    "\n",
    "+-----------+----+----+----+----+\n",
    "| i_category|  Q1|  Q2|  Q3|  Q4|\n",
    "+-----------+----+----+----+----+\n",
    "|      Books|1.58|1.50|2.84|4.66|\n",
    "|      Women|1.41|1.36|2.54|4.16|\n",
    "|      Music|1.50|1.44|2.66|4.36|\n",
    "|   Children|1.54|1.46|2.74|4.51|\n",
    "|     Sports|1.47|1.40|2.62|4.30|\n",
    "|      Shoes|1.51|1.48|2.68|4.46|\n",
    "|    Jewelry|1.45|1.39|2.59|4.25|\n",
    "|       null|0.04|0.04|0.07|0.13|\n",
    "|Electronics|1.56|1.49|2.77|4.57|\n",
    "|       Home|1.57|1.51|2.79|4.60|\n",
    "|        Men|1.60|1.54|2.86|4.71|\n",
    "+-----------+----+----+----+----+"
   ]
  },
  {
   "cell_type": "code",
   "execution_count": null,
   "metadata": {},
   "outputs": [],
   "source": []
  },
  {
   "cell_type": "code",
   "execution_count": null,
   "metadata": {},
   "outputs": [],
   "source": [
    "#order_fact = order.join(order_item, \"order_id\")\n",
    "\n",
    "item_detail = item.join(item_category, item.item_category_id == item_category.category_id)\n",
    "\n"
   ]
  },
  {
   "cell_type": "code",
   "execution_count": 13,
   "metadata": {},
   "outputs": [
    {
     "name": "stderr",
     "output_type": "stream",
     "text": [
      "name 'item_detail' is not defined\n",
      "Traceback (most recent call last):\n",
      "NameError: name 'item_detail' is not defined\n",
      "\n"
     ]
    }
   ],
   "source": [
    "item_detail.show(10)"
   ]
  },
  {
   "cell_type": "code",
   "execution_count": null,
   "metadata": {},
   "outputs": [],
   "source": []
  },
  {
   "cell_type": "code",
   "execution_count": null,
   "metadata": {},
   "outputs": [],
   "source": [
    "order_fact = member.join(order.join(order_item.join(item.join(item_category, item.item_category_id == item_category.category_id), \"item_id\"), \"order_id\"), \"member_id\")\n",
    "order_fact.printSchema()"
   ]
  },
  {
   "cell_type": "code",
   "execution_count": null,
   "metadata": {},
   "outputs": [],
   "source": [
    "member.printSchema()"
   ]
  },
  {
   "cell_type": "code",
   "execution_count": null,
   "metadata": {},
   "outputs": [],
   "source": [
    "item.printSchema()"
   ]
  },
  {
   "cell_type": "code",
   "execution_count": null,
   "metadata": {},
   "outputs": [],
   "source": [
    "item_category.printSchema()"
   ]
  },
  {
   "cell_type": "code",
   "execution_count": null,
   "metadata": {},
   "outputs": [],
   "source": []
  }
 ],
 "metadata": {
  "kernelspec": {
   "display_name": "Sparkmagic (PySpark)",
   "language": "",
   "name": "pysparkkernel"
  },
  "language_info": {
   "codemirror_mode": {
    "name": "python",
    "version": 2
   },
   "mimetype": "text/x-python",
   "name": "pyspark",
   "pygments_lexer": "python2"
  }
 },
 "nbformat": 4,
 "nbformat_minor": 2
}
